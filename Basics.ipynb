{
 "cells": [
  {
   "cell_type": "markdown",
   "metadata": {},
   "source": [
    "# ANALYZING MOBILE APP DATA\n",
    "##### We are going to analyze the data about apps that our company makes and make available for Google Play and App Store\n",
    "##### The goal of this project to analyze the profitable apps "
   ]
  },
  {
   "cell_type": "code",
   "execution_count": 2,
   "metadata": {},
   "outputs": [],
   "source": [
    "opened_file=open(\"AppleStore.csv\", encoding=\"utf8\")\n",
    "from csv import reader\n",
    "read_file=reader(opened_file)\n",
    "apple_apps=list(read_file)\n",
    "opened_file=open(\"googleplaystore.csv\", encoding=\"utf8\")\n",
    "from csv import reader\n",
    "read_file=reader(opened_file)\n",
    "google_apps=list(read_file)\n",
    "\n",
    "android_header=google_apps[0]\n",
    "ios_header=apple_apps[0]\n",
    "android=google_apps[1:]\n",
    "ios=apple_apps[1:]\n",
    "\n"
   ]
  },
  {
   "cell_type": "code",
   "execution_count": 3,
   "metadata": {},
   "outputs": [],
   "source": [
    "def explore_data(dataset,start,end,rows_and_columns=False):\n",
    "    dataset_slice=dataset[start:end]\n",
    "    for row in dataset_slice:\n",
    "        print(row)\n",
    "        print(\"\\n\")\n",
    "    if rows_and_columns:\n",
    "        print(\"Number of rows are \",len(dataset))\n",
    "        print(\"Number of columns are  \",len(dataset[0]))\n"
   ]
  },
  {
   "cell_type": "code",
   "execution_count": 4,
   "metadata": {},
   "outputs": [
    {
     "name": "stdout",
     "output_type": "stream",
     "text": [
      "['id', 'track_name', 'size_bytes', 'currency', 'price', 'rating_count_tot', 'rating_count_ver', 'user_rating', 'user_rating_ver', 'ver', 'cont_rating', 'prime_genre', 'sup_devices.num', 'ipadSc_urls.num', 'lang.num', 'vpp_lic']\n",
      "\n",
      "\n",
      "['284882215', 'Facebook', '389879808', 'USD', '0.0', '2974676', '212', '3.5', '3.5', '95.0', '4+', 'Social Networking', '37', '1', '29', '1']\n",
      "\n",
      "\n",
      "['389801252', 'Instagram', '113954816', 'USD', '0.0', '2161558', '1289', '4.5', '4.0', '10.23', '12+', 'Photo & Video', '37', '0', '29', '1']\n",
      "\n",
      "\n",
      "['529479190', 'Clash of Clans', '116476928', 'USD', '0.0', '2130805', '579', '4.5', '4.5', '9.24.12', '9+', 'Games', '38', '5', '18', '1']\n",
      "\n",
      "\n",
      "Number of rows are  7197\n",
      "Number of columns are   16\n"
     ]
    }
   ],
   "source": [
    "print(ios_header)\n",
    "print(\"\\n\")\n",
    "explore_data(ios,0,3,True)"
   ]
  },
  {
   "cell_type": "markdown",
   "metadata": {},
   "source": [
    "### Below is the links for the above dataset and their documentation if the header is not descriptive enough\n",
    "\n",
    "[App Store Dataset](https://www.kaggle.com/lava18/google-play-store-apps)"
   ]
  },
  {
   "cell_type": "code",
   "execution_count": 5,
   "metadata": {},
   "outputs": [
    {
     "name": "stdout",
     "output_type": "stream",
     "text": [
      "['App', 'Category', 'Rating', 'Reviews', 'Size', 'Installs', 'Type', 'Price', 'Content Rating', 'Genres', 'Last Updated', 'Current Ver', 'Android Ver']\n",
      "\n",
      "\n",
      "['Photo Editor & Candy Camera & Grid & ScrapBook', 'ART_AND_DESIGN', '4.1', '159', '19M', '10,000+', 'Free', '0', 'Everyone', 'Art & Design', 'January 7, 2018', '1.0.0', '4.0.3 and up']\n",
      "\n",
      "\n",
      "['Coloring book moana', 'ART_AND_DESIGN', '3.9', '967', '14M', '500,000+', 'Free', '0', 'Everyone', 'Art & Design;Pretend Play', 'January 15, 2018', '2.0.0', '4.0.3 and up']\n",
      "\n",
      "\n",
      "['U Launcher Lite – FREE Live Cool Themes, Hide Apps', 'ART_AND_DESIGN', '4.7', '87510', '8.7M', '5,000,000+', 'Free', '0', 'Everyone', 'Art & Design', 'August 1, 2018', '1.2.4', '4.0.3 and up']\n",
      "\n",
      "\n",
      "Number of rows are  10841\n",
      "Number of columns are   13\n"
     ]
    }
   ],
   "source": [
    "print(android_header)\n",
    "print('\\n')\n",
    "explore_data(android,0,3,True)"
   ]
  },
  {
   "cell_type": "markdown",
   "metadata": {},
   "source": [
    "### Below is the links for the above dataset and their documentation if the header is not descriptive enough\n",
    "\n",
    "[Google Play Dataset](https://www.kaggle.com/datasets/lava18/google-play-store-apps)"
   ]
  },
  {
   "cell_type": "markdown",
   "metadata": {},
   "source": [
    "### We are now going to start with the data cleaning process of this project and are going to remove the missing entries and duplicate data or inaccurate data"
   ]
  },
  {
   "cell_type": "markdown",
   "metadata": {},
   "source": [
    "##### Reading the documentation reveals that the column 10472 has an error for the [Google Play Dataset](https://www.kaggle.com/ramamet4/app-store-apple-data-set-10k-apps) "
   ]
  },
  {
   "cell_type": "code",
   "execution_count": 6,
   "metadata": {},
   "outputs": [
    {
     "name": "stdout",
     "output_type": "stream",
     "text": [
      "['Life Made WI-Fi Touchscreen Photo Frame', '1.9', '19', '3.0M', '1,000+', 'Free', '0', 'Everyone', '', 'February 11, 2018', '1.0.19', '4.0 and up']\n",
      "\n",
      "\n",
      "['App', 'Category', 'Rating', 'Reviews', 'Size', 'Installs', 'Type', 'Price', 'Content Rating', 'Genres', 'Last Updated', 'Current Ver', 'Android Ver']\n",
      "\n",
      "\n",
      "['Photo Editor & Candy Camera & Grid & ScrapBook', 'ART_AND_DESIGN', '4.1', '159', '19M', '10,000+', 'Free', '0', 'Everyone', 'Art & Design', 'January 7, 2018', '1.0.0', '4.0.3 and up']\n"
     ]
    }
   ],
   "source": [
    "print(android[10472])\n",
    "print(\"\\n\")\n",
    "print(android_header)\n",
    "print('\\n')\n",
    "print(android[0])"
   ]
  },
  {
   "cell_type": "markdown",
   "metadata": {},
   "source": [
    "##### It is clearly visible the error is in the rating column as the rating for the column is 19 and the max rating in Google Play Store is 5, as a result we are going to totally remove the column"
   ]
  },
  {
   "cell_type": "code",
   "execution_count": 7,
   "metadata": {},
   "outputs": [
    {
     "name": "stdout",
     "output_type": "stream",
     "text": [
      "10841\n",
      "10840\n"
     ]
    }
   ],
   "source": [
    "print(len(android))\n",
    "del android[10472]\n",
    "print(len(android))"
   ]
  },
  {
   "cell_type": "markdown",
   "metadata": {},
   "source": [
    "##### There was no error in the [App Store Dataset](https://www.kaggle.com/lava18/google-play-store-apps) so we move ahead with detection of duplicate items "
   ]
  },
  {
   "cell_type": "code",
   "execution_count": 8,
   "metadata": {},
   "outputs": [
    {
     "name": "stdout",
     "output_type": "stream",
     "text": [
      "Number of duplicate items =  1181\n",
      "\n",
      "\n",
      "Examples of duplicate apps are  ['Quick PDF Scanner + OCR FREE', 'Box', 'Google My Business', 'ZOOM Cloud Meetings', 'join.me - Simple Meetings']\n"
     ]
    }
   ],
   "source": [
    "duplicate_apps=[]\n",
    "unique_apps=[]\n",
    "\n",
    "for app in android:\n",
    "    name=app[0]\n",
    "    if name in unique_apps:\n",
    "        duplicate_apps.append(name)\n",
    "    else:\n",
    "        unique_apps.append(name)\n",
    "        \n",
    "print(\"Number of duplicate items = \",len(duplicate_apps))\n",
    "print(\"\\n\")\n",
    "print(\"Examples of duplicate apps are \",duplicate_apps[:5])"
   ]
  },
  {
   "cell_type": "code",
   "execution_count": 9,
   "metadata": {},
   "outputs": [
    {
     "name": "stdout",
     "output_type": "stream",
     "text": [
      "['Instagram', 'SOCIAL', '4.5', '66577313', 'Varies with device', '1,000,000,000+', 'Free', '0', 'Teen', 'Social', 'July 31, 2018', 'Varies with device', 'Varies with device']\n",
      "['Instagram', 'SOCIAL', '4.5', '66577446', 'Varies with device', '1,000,000,000+', 'Free', '0', 'Teen', 'Social', 'July 31, 2018', 'Varies with device', 'Varies with device']\n",
      "['Instagram', 'SOCIAL', '4.5', '66577313', 'Varies with device', '1,000,000,000+', 'Free', '0', 'Teen', 'Social', 'July 31, 2018', 'Varies with device', 'Varies with device']\n",
      "['Instagram', 'SOCIAL', '4.5', '66509917', 'Varies with device', '1,000,000,000+', 'Free', '0', 'Teen', 'Social', 'July 31, 2018', 'Varies with device', 'Varies with device']\n"
     ]
    }
   ],
   "source": [
    "for app in android:\n",
    "    name=app[0]\n",
    "    if name=='Instagram':\n",
    "        print(app)"
   ]
  },
  {
   "cell_type": "markdown",
   "metadata": {},
   "source": [
    " It is clearly visible that the only difference in  the above values is in the Number of reviews which means the data is collected at differnet times hence multiple enteries.\n",
    " Instead of removing duplicates randomly we are going to keep the latest entry (it will have the highest number of reviews) and remove all others"
   ]
  },
  {
   "cell_type": "code",
   "execution_count": 10,
   "metadata": {},
   "outputs": [
    {
     "name": "stdout",
     "output_type": "stream",
     "text": [
      "expected length of review max is  9659\n",
      "real length of review max is  9659\n"
     ]
    }
   ],
   "source": [
    "review_max={}\n",
    "for app in android:\n",
    "    name=app[0]\n",
    "    n_reviews=float(app[3])\n",
    "    if name in review_max and review_max[name]<n_reviews:\n",
    "        review_max[name]=n_reviews\n",
    "    elif name not in review_max:\n",
    "        review_max[name]=n_reviews\n",
    "print(\"expected length of review max is \",len(android)-len(duplicate_apps))\n",
    "print(\"real length of review max is \",len(review_max))\n"
   ]
  },
  {
   "cell_type": "markdown",
   "metadata": {},
   "source": [
    "we start by declaring two empy lists and loop through the android dataset and we add the app to the android clean list and already added list if \n",
    "1. The `n_reviews==review_max[name] `\n",
    "2. name not in already_added"
   ]
  },
  {
   "cell_type": "code",
   "execution_count": 11,
   "metadata": {},
   "outputs": [],
   "source": [
    "android_clean=[]\n",
    "already_added=[]\n",
    "for app in android:\n",
    "    name=app[0]\n",
    "    n_reviews=float(app[3])\n",
    "    if review_max[name] == n_reviews and name not in already_added:\n",
    "        already_added.append(name)\n",
    "        android_clean.append(app)\n",
    "    "
   ]
  },
  {
   "cell_type": "code",
   "execution_count": 12,
   "metadata": {},
   "outputs": [
    {
     "name": "stdout",
     "output_type": "stream",
     "text": [
      "9659\n"
     ]
    }
   ],
   "source": [
    "print(len(android_clean))"
   ]
  },
  {
   "cell_type": "markdown",
   "metadata": {},
   "source": [
    "The ios dataset had no duplicate items "
   ]
  },
  {
   "cell_type": "markdown",
   "metadata": {},
   "source": [
    "We are only interested in the apps which are made for engliEnglish-speaking audience so we need to remove the apps which are not intended for the same.\n",
    " one way to do this is to remove all the app whose names contains letters that are not used in english such as `char(29233)`=爱\n"
   ]
  },
  {
   "cell_type": "code",
   "execution_count": 13,
   "metadata": {},
   "outputs": [
    {
     "name": "stdout",
     "output_type": "stream",
     "text": [
      "False\n"
     ]
    }
   ],
   "source": [
    "def is_english(name):\n",
    "    for i in name:\n",
    "        if ord(i) >127:\n",
    "            return False\n",
    "    return True\n",
    "print(is_english('Instachat 😜'))\n",
    "            "
   ]
  },
  {
   "cell_type": "markdown",
   "metadata": {},
   "source": [
    "Now we have a function to tell whether an app name is English or not we can start with the removal of names that are not in English\n",
    "#### **But wait!**\n",
    "We still will not be able to identify English names such as 'Instachat 😜' and\n",
    "'Docs To Go™  with our function because Emojis and symbols like ™ are outside the ascii range\n",
    "To mminimize the loss of data we will only be deleting those apps whose names have more than 3 characters outside the 127 ascii range\n",
    "To do that we will modify our function"
   ]
  },
  {
   "cell_type": "code",
   "execution_count": 14,
   "metadata": {},
   "outputs": [
    {
     "name": "stdout",
     "output_type": "stream",
     "text": [
      "False\n"
     ]
    }
   ],
   "source": [
    "def is_english(name):\n",
    "    val=0\n",
    "    for i in name:\n",
    "        if ord(i) > 127:\n",
    "            val=val+1\n",
    "    if val > 3:\n",
    "        return False\n",
    "    \n",
    "    else:\n",
    "        return True\n",
    "\n",
    "print(is_english('爱奇艺PPS -《欢乐颂2》电视剧热播'))\n",
    "\n",
    "                    "
   ]
  },
  {
   "cell_type": "code",
   "execution_count": 15,
   "metadata": {},
   "outputs": [
    {
     "data": {
      "text/plain": "['Photo Editor & Candy Camera & Grid & ScrapBook',\n 'ART_AND_DESIGN',\n '4.1',\n '159',\n '19M',\n '10,000+',\n 'Free',\n '0',\n 'Everyone',\n 'Art & Design',\n 'January 7, 2018',\n '1.0.0',\n '4.0.3 and up']"
     },
     "execution_count": 15,
     "metadata": {},
     "output_type": "execute_result"
    }
   ],
   "source": [
    "android_clean[0]"
   ]
  },
  {
   "cell_type": "code",
   "execution_count": 16,
   "metadata": {},
   "outputs": [],
   "source": [
    "android_english=[]\n",
    "ios_english=[]\n",
    "for app  in android_clean:\n",
    "    if is_english(app[0]):\n",
    "            android_english.append(app)\n",
    "for app  in ios:\n",
    "    if is_english(app[0]):\n",
    "            ios_english.append(app)"
   ]
  },
  {
   "cell_type": "code",
   "execution_count": 17,
   "metadata": {},
   "outputs": [
    {
     "name": "stdout",
     "output_type": "stream",
     "text": [
      "9614\n",
      "7197\n"
     ]
    }
   ],
   "source": [
    "print(len(android_english))\n",
    "print(len(ios_english))"
   ]
  },
  {
   "cell_type": "markdown",
   "metadata": {},
   "source": [
    "Now we have the english apps name in android_english and ios_english"
   ]
  },
  {
   "cell_type": "markdown",
   "metadata": {},
   "source": [
    "##### Now we are going to find out the free apps in both app stores\n",
    "the price column in ios dataset is indexed 4 \n",
    "In google data set there is column named type which has two values Free and Paid which is indexed 6"
   ]
  },
  {
   "cell_type": "code",
   "execution_count": 18,
   "metadata": {},
   "outputs": [],
   "source": [
    "ios_free_apps=[]\n",
    "for app in ios_english:\n",
    "    if app[4]=='0.0':\n",
    "        ios_free_apps.append(app)\n",
    "android_free_apps=[]\n",
    "for app in android_english:\n",
    "    if app[6]=='Free':\n",
    "        android_free_apps.append(app)\n"
   ]
  },
  {
   "cell_type": "code",
   "execution_count": 19,
   "metadata": {},
   "outputs": [
    {
     "name": "stdout",
     "output_type": "stream",
     "text": [
      "['284882215', 'Facebook', '389879808', 'USD', '0.0', '2974676', '212', '3.5', '3.5', '95.0', '4+', 'Social Networking', '37', '1', '29', '1']\n",
      "\n",
      "\n",
      "['Photo Editor & Candy Camera & Grid & ScrapBook', 'ART_AND_DESIGN', '4.1', '159', '19M', '10,000+', 'Free', '0', 'Everyone', 'Art & Design', 'January 7, 2018', '1.0.0', '4.0.3 and up']\n"
     ]
    }
   ],
   "source": [
    "print(ios_free_apps[0])\n",
    "print(\"\\n\")\n",
    "print(android_free_apps[0])"
   ]
  },
  {
   "cell_type": "markdown",
   "metadata": {},
   "source": [
    "We want to make a profitable app which we can monetize easily so we want to find out the app genres that are generally more famous on both stores\n",
    "We are going to make a minimal app in android first for the most famous genre and if the response is good then we are going to make the ios counterpart of the same and monetize them on both platfroms\n"
   ]
  },
  {
   "cell_type": "markdown",
   "metadata": {},
   "source": [
    "###### Now lets make the frequency tables"
   ]
  },
  {
   "cell_type": "code",
   "execution_count": 20,
   "metadata": {},
   "outputs": [],
   "source": [
    "def freq_table(dataset,index):\n",
    "    result={}\n",
    "    for app in dataset:\n",
    "        app_genre=app[index]\n",
    "        if app_genre in result:\n",
    "            result[app_genre]+=1\n",
    "        else:\n",
    "            result[app_genre]=1\n",
    "    return result\n",
    "# index 11 for ios dataset\n",
    "# index 1 for play store dataset\n",
    "android_genres=freq_table(android_free_apps,1)\n",
    "ios_genres=freq_table(ios_free_apps,11)\n",
    "\n",
    "def freq_percentage(dataset):\n",
    "    result={}\n",
    "    sum=0\n",
    "    for app in dataset:\n",
    "        sum+=dataset[app]\n",
    "    for app in dataset:\n",
    "        result[app]=dataset[app]/sum*100\n",
    "    return result\n",
    "\n",
    "\n",
    "def max_freq_genre(dataset):\n",
    "    \n",
    "    max,res=float('-inf'),'Default'\n",
    "    for app in dataset:\n",
    "        if dataset[app]>max:\n",
    "            max=dataset[app]\n",
    "            res=app\n",
    "    return res\n",
    "\n",
    "def display_table(freq_table):\n",
    "    for i in freq_table:\n",
    "        print(i + \"=\",end='')\n",
    "        print(freq_table[i])\n",
    "\n"
   ]
  },
  {
   "cell_type": "code",
   "execution_count": 21,
   "metadata": {},
   "outputs": [
    {
     "name": "stdout",
     "output_type": "stream",
     "text": [
      "ART_AND_DESIGN=57\n",
      "AUTO_AND_VEHICLES=82\n",
      "BEAUTY=53\n",
      "BOOKS_AND_REFERENCE=190\n",
      "BUSINESS=407\n",
      "COMICS=55\n",
      "COMMUNICATION=287\n",
      "DATING=165\n",
      "EDUCATION=103\n",
      "ENTERTAINMENT=85\n",
      "EVENTS=63\n",
      "FINANCE=328\n",
      "FOOD_AND_DRINK=110\n",
      "HEALTH_AND_FITNESS=273\n",
      "HOUSE_AND_HOME=73\n",
      "LIBRARIES_AND_DEMO=83\n",
      "LIFESTYLE=346\n",
      "GAME=862\n",
      "FAMILY=1675\n",
      "MEDICAL=313\n",
      "SOCIAL=236\n",
      "SHOPPING=199\n",
      "PHOTOGRAPHY=261\n",
      "SPORTS=301\n",
      "TRAVEL_AND_LOCAL=207\n",
      "TOOLS=750\n",
      "PERSONALIZATION=294\n",
      "PRODUCTIVITY=345\n",
      "PARENTING=58\n",
      "WEATHER=71\n",
      "VIDEO_PLAYERS=159\n",
      "NEWS_AND_MAGAZINES=248\n",
      "MAPS_AND_NAVIGATION=124\n",
      "\n",
      "\n",
      "ART_AND_DESIGN=0.6431230960171499\n",
      "AUTO_AND_VEHICLES=0.9251946293580051\n",
      "BEAUTY=0.5979916506826132\n",
      "BOOKS_AND_REFERENCE=2.1437436533904997\n",
      "BUSINESS=4.592124562789123\n",
      "COMICS=0.6205573733498815\n",
      "COMMUNICATION=3.2381812027530184\n",
      "DATING=1.8616721200496444\n",
      "EDUCATION=1.1621347173643235\n",
      "ENTERTAINMENT=0.9590432133589079\n",
      "EVENTS=0.7108202640189552\n",
      "FINANCE=3.7007785174320205\n",
      "FOOD_AND_DRINK=1.241114746699763\n",
      "HEALTH_AND_FITNESS=3.0802211440821394\n",
      "HOUSE_AND_HOME=0.8236488773552973\n",
      "LIBRARIES_AND_DEMO=0.9364774906916393\n",
      "LIFESTYLE=3.9038700214374367\n",
      "GAME=9.725826469592688\n",
      "FAMILY=18.898792733837304\n",
      "MEDICAL=3.5315355974275078\n",
      "SOCIAL=2.6627552747376737\n",
      "SHOPPING=2.245289405393208\n",
      "PHOTOGRAPHY=2.944826808078529\n",
      "SPORTS=3.396141261423897\n",
      "TRAVEL_AND_LOCAL=2.335552296062281\n",
      "TOOLS=8.462146000225657\n",
      "PERSONALIZATION=3.317161232088458\n",
      "PRODUCTIVITY=3.8925871601038025\n",
      "PARENTING=0.6544059573507841\n",
      "WEATHER=0.8010831546880289\n",
      "VIDEO_PLAYERS=1.7939749520478394\n",
      "NEWS_AND_MAGAZINES=2.798149610741284\n",
      "MAPS_AND_NAVIGATION=1.399074805370642\n",
      "\n",
      "\n",
      "Genre with max percentage for android is  FAMILY\n",
      "\n",
      "\n",
      "Social Networking=143\n",
      "Photo & Video=167\n",
      "Games=2257\n",
      "Music=67\n",
      "Reference=20\n",
      "Health & Fitness=76\n",
      "Weather=31\n",
      "Utilities=109\n",
      "Travel=56\n",
      "Shopping=121\n",
      "News=58\n",
      "Navigation=20\n",
      "Lifestyle=94\n",
      "Entertainment=334\n",
      "Food & Drink=43\n",
      "Sports=79\n",
      "Book=66\n",
      "Finance=84\n",
      "Education=132\n",
      "Productivity=62\n",
      "Business=20\n",
      "Catalogs=9\n",
      "Medical=8\n",
      "\n",
      "\n",
      "Social Networking=3.5256410256410255\n",
      "Photo & Video=4.117357001972387\n",
      "Games=55.64595660749507\n",
      "Music=1.6518737672583828\n",
      "Reference=0.4930966469428008\n",
      "Health & Fitness=1.8737672583826428\n",
      "Weather=0.7642998027613412\n",
      "Utilities=2.687376725838264\n",
      "Travel=1.3806706114398422\n",
      "Shopping=2.983234714003945\n",
      "News=1.4299802761341223\n",
      "Navigation=0.4930966469428008\n",
      "Lifestyle=2.3175542406311638\n",
      "Entertainment=8.234714003944774\n",
      "Food & Drink=1.0601577909270217\n",
      "Sports=1.947731755424063\n",
      "Book=1.6272189349112427\n",
      "Finance=2.0710059171597637\n",
      "Education=3.2544378698224854\n",
      "Productivity=1.5285996055226825\n",
      "Business=0.4930966469428008\n",
      "Catalogs=0.22189349112426035\n",
      "Medical=0.19723865877712032\n",
      "\n",
      "\n",
      "Genre with max percentage for ios is   Games\n"
     ]
    }
   ],
   "source": [
    "display_table(android_genres)\n",
    "print('\\n')\n",
    "display_table(freq_percentage(android_genres))\n",
    "print(\"\\n\")\n",
    "print(\"Genre with max percentage for android is \",max_freq_genre(android_genres))\n",
    "print(\"\\n\")\n",
    "display_table(ios_genres)\n",
    "print('\\n')\n",
    "display_table(freq_percentage(ios_genres))\n",
    "print(\"\\n\")\n",
    "print(\"Genre with max percentage for ios is  \",max_freq_genre(ios_genres))"
   ]
  },
  {
   "cell_type": "markdown",
   "metadata": {},
   "source": [
    "now to find the most famous apps in the most famous genre\n"
   ]
  },
  {
   "cell_type": "code",
   "execution_count": null,
   "outputs": [],
   "source": [],
   "metadata": {
    "collapsed": false
   }
  }
 ],
 "metadata": {
  "kernelspec": {
   "display_name": "Python 3",
   "language": "python",
   "name": "python3"
  },
  "language_info": {
   "codemirror_mode": {
    "name": "ipython",
    "version": 3
   },
   "file_extension": ".py",
   "mimetype": "text/x-python",
   "name": "python",
   "nbconvert_exporter": "python",
   "pygments_lexer": "ipython3",
   "version": "3.8.2"
  }
 },
 "nbformat": 4,
 "nbformat_minor": 2
}
